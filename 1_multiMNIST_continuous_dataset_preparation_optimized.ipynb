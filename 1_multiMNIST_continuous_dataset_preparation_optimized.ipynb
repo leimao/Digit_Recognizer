{
 "cells": [
  {
   "cell_type": "markdown",
   "metadata": {},
   "source": [
    "# Udacity Deep Learning Project - Digit Recognition - Part 1"
   ]
  },
  {
   "cell_type": "markdown",
   "metadata": {},
   "source": [
    "Author: Lei Mao <br>\n",
    "Late revised on: 12/23/2016 <br>"
   ]
  },
  {
   "cell_type": "markdown",
   "metadata": {},
   "source": [
    "## multiMNIST Continuous Dataset Preparation"
   ]
  },
  {
   "cell_type": "markdown",
   "metadata": {},
   "source": [
    "### Import libraries quired"
   ]
  },
  {
   "cell_type": "code",
   "execution_count": 1,
   "metadata": {
    "collapsed": false
   },
   "outputs": [],
   "source": [
    "# These are all the modules we'll be using later. Make sure you can import them\n",
    "# before proceeding further.\n",
    "import matplotlib.pyplot as plt\n",
    "import numpy as np\n",
    "import cv2\n",
    "import os\n",
    "import sys\n",
    "import tarfile\n",
    "import gzip\n",
    "import struct\n",
    "from scipy import ndimage\n",
    "from sklearn.model_selection import train_test_split\n",
    "from six.moves.urllib.request import urlretrieve\n",
    "from six.moves import cPickle as pickle\n",
    "\n",
    "# Config the matplotlib backend as plotting inline in IPython\n",
    "%matplotlib inline"
   ]
  },
  {
   "cell_type": "code",
   "execution_count": 2,
   "metadata": {
    "collapsed": false
   },
   "outputs": [
    {
     "data": {
      "application/javascript": [
       "IPython.notebook.set_autosave_interval(0)"
      ]
     },
     "metadata": {},
     "output_type": "display_data"
    },
    {
     "name": "stdout",
     "output_type": "stream",
     "text": [
      "Autosave disabled\n"
     ]
    }
   ],
   "source": [
    "%autosave 0"
   ]
  },
  {
   "cell_type": "markdown",
   "metadata": {},
   "source": [
    "### Download MNIST dataset"
   ]
  },
  {
   "cell_type": "markdown",
   "metadata": {},
   "source": [
    "Download MNIST dataset from http://yann.lecun.com/exdb/mnist/"
   ]
  },
  {
   "cell_type": "code",
   "execution_count": 3,
   "metadata": {
    "collapsed": true
   },
   "outputs": [],
   "source": [
    "last_percent_reported = None\n",
    "\n",
    "def download_progress_hook(count, blockSize, totalSize):\n",
    "    \"\"\"A hook to report the progress of a download. This is mostly intended for users with\n",
    "    slow internet connections. Reports every 1% change in download progress.\n",
    "    \"\"\"\n",
    "    global last_percent_reported\n",
    "    percent = int(count * blockSize * 100 / totalSize)\n",
    "    \n",
    "    if last_percent_reported != percent:\n",
    "        if percent % 5 == 0:\n",
    "            sys.stdout.write(\"%s%%\" % percent)\n",
    "            sys.stdout.flush()\n",
    "        else:\n",
    "            sys.stdout.write(\".\")\n",
    "            sys.stdout.flush()\n",
    "            \n",
    "        last_percent_reported = percent\n",
    "\n",
    "def maybe_download(filename, expected_bytes, url, destination_folder, force = False):\n",
    "    \"\"\"Download a file if not present, and make sure it's the right size.\"\"\"\n",
    "    filename_real = destination_folder + filename\n",
    "    if force or not os.path.exists(filename_real):\n",
    "        if not os.path.exists(destination_folder):\n",
    "            os.makedirs(destination_folder)\n",
    "        print('Attempting to download:', filename) \n",
    "        filename_real, _ = urlretrieve(url + filename, filename_real, reporthook=download_progress_hook)\n",
    "        print('\\nDownload Complete!')\n",
    "    statinfo = os.stat(filename_real)\n",
    "    if statinfo.st_size == expected_bytes:\n",
    "        print('Found and verified', filename)\n",
    "    else:\n",
    "        raise Exception('Failed to verify ' + filename + '. Can you get to it with a browser?')\n",
    "    return filename_real"
   ]
  },
  {
   "cell_type": "code",
   "execution_count": 4,
   "metadata": {
    "collapsed": false
   },
   "outputs": [
    {
     "name": "stdout",
     "output_type": "stream",
     "text": [
      "('Found and verified', 'train-images-idx3-ubyte.gz')\n",
      "('Found and verified', 'train-labels-idx1-ubyte.gz')\n",
      "('Found and verified', 't10k-images-idx3-ubyte.gz')\n",
      "('Found and verified', 't10k-labels-idx1-ubyte.gz')\n"
     ]
    }
   ],
   "source": [
    "url_MNIST = 'http://yann.lecun.com/exdb/mnist/'\n",
    "MNIST_folder = 'data/MNIST/'\n",
    "\n",
    "train_image_filename = maybe_download(filename = 'train-images-idx3-ubyte.gz', expected_bytes = 9912422, \n",
    "                                      url = url_MNIST, destination_folder = MNIST_folder)\n",
    "train_label_filename = maybe_download(filename = 'train-labels-idx1-ubyte.gz', expected_bytes = 28881, \n",
    "                                      url = url_MNIST, destination_folder = MNIST_folder)\n",
    "test_image_filename = maybe_download(filename = 't10k-images-idx3-ubyte.gz', expected_bytes = 1648877, \n",
    "                                     url = url_MNIST, destination_folder = MNIST_folder)\n",
    "test_label_filename = maybe_download(filename = 't10k-labels-idx1-ubyte.gz', expected_bytes = 4542, \n",
    "                                     url = url_MNIST, destination_folder = MNIST_folder)"
   ]
  },
  {
   "cell_type": "markdown",
   "metadata": {},
   "source": [
    "### Extract MNIST dataset"
   ]
  },
  {
   "cell_type": "code",
   "execution_count": 5,
   "metadata": {
    "collapsed": false
   },
   "outputs": [],
   "source": [
    "def load_mnist_image(filename_real):\n",
    "    \"\"\"Load the MNIST image data\"\"\"\n",
    "    with gzip.open(filename_real, 'rb') as f:\n",
    "        buf = f.read()\n",
    "    # Calculate the number of images in the dataset\n",
    "    # Read binary data buf from index 0\n",
    "    index = 0\n",
    "    # '>IIII': read 4 unsigned int\n",
    "    # See: https://docs.python.org/2/library/struct.html?highlight=struct.unpack#struct.unpack\n",
    "    # The first 4 unsigned int are variables magic, numImages , numRows , numColumns\n",
    "    magic, numImages, numRows, numColumns = struct.unpack_from('>IIII' , buf , index)\n",
    "    print('Loading MNIST dataset: %s' %filename_real.split('/')[-1])\n",
    "    print('Number of images: %d, Image size: %d * %d' %(numImages, numRows, numColumns))\n",
    "    # In MNIST dataset, numRows = 28, numColumns = 28\n",
    "    # Move index cursor\n",
    "    index += struct.calcsize('>IIII')\n",
    "    # Start to read image data and store the image data to ndarray\n",
    "    # '>784B': read 784 (28*28) unsigned int\n",
    "    binary_format = '>' + str(numRows * numColumns) + 'B'\n",
    "    dataset = np.ndarray(shape=(numImages, numRows, numColumns), dtype=np.uint8)\n",
    "    for i in xrange(numImages):\n",
    "        im = struct.unpack_from(binary_format ,buf, index)\n",
    "        index += struct.calcsize(binary_format)\n",
    "        im = np.array(im)\n",
    "        im = im.reshape(numRows, numRows)\n",
    "        dataset[i] = im\n",
    "    return dataset"
   ]
  },
  {
   "cell_type": "code",
   "execution_count": 6,
   "metadata": {
    "collapsed": true
   },
   "outputs": [],
   "source": [
    "def load_mnist_label(filename_real):\n",
    "    \"\"\"Load the MNIST label data\"\"\"\n",
    "    with gzip.open(filename_real, 'rb') as f:\n",
    "        buf = f.read()\n",
    "    index = 0\n",
    "    magic, numImages = struct.unpack_from('>II' , buf , index)\n",
    "    print('Loading MNIST labelset: %s' %filename_real.split('/')[-1])\n",
    "    print('Number of labels: %d' %numImages)\n",
    "    index += struct.calcsize('>II')\n",
    "    binary_format = '>' + str(numImages) + 'B'\n",
    "    label = struct.unpack_from(binary_format, buf, index)\n",
    "    index += struct.calcsize(binary_format)\n",
    "    label = np.array(label)\n",
    "    label = label.reshape(numImages,1)\n",
    "    return label"
   ]
  },
  {
   "cell_type": "code",
   "execution_count": 7,
   "metadata": {
    "collapsed": false
   },
   "outputs": [
    {
     "name": "stdout",
     "output_type": "stream",
     "text": [
      "Loading MNIST dataset: train-images-idx3-ubyte.gz\n",
      "Number of images: 60000, Image size: 28 * 28\n",
      "Loading MNIST labelset: train-labels-idx1-ubyte.gz\n",
      "Number of labels: 60000\n",
      "Loading MNIST dataset: t10k-images-idx3-ubyte.gz\n",
      "Number of images: 10000, Image size: 28 * 28\n",
      "Loading MNIST labelset: t10k-labels-idx1-ubyte.gz\n",
      "Number of labels: 10000\n"
     ]
    }
   ],
   "source": [
    "train_data = load_mnist_image(train_image_filename)\n",
    "train_label = load_mnist_label(train_label_filename)\n",
    "test_data = load_mnist_image(test_image_filename)\n",
    "test_label = load_mnist_label(test_label_filename)"
   ]
  },
  {
   "cell_type": "markdown",
   "metadata": {},
   "source": [
    "### Verify the extracted MNIST data"
   ]
  },
  {
   "cell_type": "code",
   "execution_count": 8,
   "metadata": {
    "collapsed": false
   },
   "outputs": [
    {
     "name": "stdout",
     "output_type": "stream",
     "text": [
      "The size of train data and train label are the same.\n",
      "The size of test data and test label are the same.\n"
     ]
    }
   ],
   "source": [
    "# Check if the number of images and labels are the same\n",
    "if len(train_data) != len(train_label):\n",
    "    print('The size of train data and train label did not match!')\n",
    "else:\n",
    "    print('The size of train data and train label are the same.')\n",
    "if len(test_data) != len(test_label):\n",
    "    print('The size of test data and test label did not match!')\n",
    "else:\n",
    "    print('The size of test data and test label are the same.')"
   ]
  },
  {
   "cell_type": "code",
   "execution_count": 9,
   "metadata": {
    "collapsed": false
   },
   "outputs": [
    {
     "data": {
      "image/png": "[encoded data removed]",
      "text/plain": [
       "<matplotlib.figure.Figure at 0x7fc892a8e450>"
      ]
     },
     "metadata": {},
     "output_type": "display_data"
    },
    {
     "name": "stdout",
     "output_type": "stream",
     "text": [
      "The label of this image from training set is 4\n"
     ]
    }
   ],
   "source": [
    "# Pick a random image from the training set\n",
    "random_id = np.random.randint(len(train_data))\n",
    "# Plot the image\n",
    "fig = plt.figure()\n",
    "plotwindow = fig.add_subplot(111)\n",
    "plt.imshow(train_data[random_id], cmap='gray')\n",
    "plt.show()\n",
    "# Print the label of the image\n",
    "print('The label of this image from training set is %d' %train_label[random_id])"
   ]
  },
  {
   "cell_type": "code",
   "execution_count": 10,
   "metadata": {
    "collapsed": false
   },
   "outputs": [
    {
     "data": {
      "image/png": "[encoded data removed]",
      "text/plain": [
       "<matplotlib.figure.Figure at 0x7fc890a43e10>"
      ]
     },
     "metadata": {},
     "output_type": "display_data"
    },
    {
     "name": "stdout",
     "output_type": "stream",
     "text": [
      "The label of this image from test set is 1\n"
     ]
    }
   ],
   "source": [
    "# Pick a random image from the test set\n",
    "random_id = np.random.randint(len(test_data))\n",
    "# Plot the image\n",
    "fig = plt.figure()\n",
    "plotwindow = fig.add_subplot(111)\n",
    "plt.imshow(test_data[random_id], cmap='gray')\n",
    "plt.show()\n",
    "# Print the label of the image\n",
    "print('The label of this image from test set is %d' %test_label[random_id])"
   ]
  },
  {
   "cell_type": "markdown",
   "metadata": {},
   "source": [
    "### Save the processed data to file on hard drive"
   ]
  },
  {
   "cell_type": "code",
   "execution_count": 11,
   "metadata": {
    "collapsed": true
   },
   "outputs": [],
   "source": [
    "def maybe_pickle(dataset, set_filename, destination_folder, force = False):\n",
    "    filename_real = destination_folder + set_filename + '.pickle'\n",
    "    filename = set_filename + '.pickle'\n",
    "    if os.path.exists(filename_real) and not force:\n",
    "        print('%s already present - Skipping pickling.' %filename)\n",
    "    else:\n",
    "        if not os.path.exists(destination_folder):\n",
    "            os.makedirs(destination_folder)\n",
    "        print('Pickling %s.' %set_filename)\n",
    "        try:\n",
    "            with open(filename_real, 'wb') as f:\n",
    "                pickle.dump(dataset, f, pickle.HIGHEST_PROTOCOL)\n",
    "            print(filename + ' saved' + ' successfully')\n",
    "        except Exception as e:\n",
    "            print('Unable to save data to', filename, ':', e)"
   ]
  },
  {
   "cell_type": "code",
   "execution_count": 12,
   "metadata": {
    "collapsed": false
   },
   "outputs": [
    {
     "name": "stdout",
     "output_type": "stream",
     "text": [
      "MNIST_train_data.pickle already present - Skipping pickling.\n",
      "MNIST_train_label.pickle already present - Skipping pickling.\n",
      "MNIST_test_data.pickle already present - Skipping pickling.\n",
      "MNIST_test_label.pickle already present - Skipping pickling.\n"
     ]
    }
   ],
   "source": [
    "maybe_pickle(dataset = train_data, set_filename = 'MNIST_train_data', destination_folder = MNIST_folder)\n",
    "maybe_pickle(dataset = train_label, set_filename = 'MNIST_train_label', destination_folder = MNIST_folder)\n",
    "maybe_pickle(dataset = test_data, set_filename = 'MNIST_test_data', destination_folder = MNIST_folder)\n",
    "maybe_pickle(dataset = test_label, set_filename = 'MNIST_test_label', destination_folder = MNIST_folder)"
   ]
  },
  {
   "cell_type": "code",
   "execution_count": 13,
   "metadata": {
    "collapsed": false
   },
   "outputs": [
    {
     "name": "stdout",
     "output_type": "stream",
     "text": [
      "MNIST.pickle already present - Skipping pickling.\n"
     ]
    }
   ],
   "source": [
    "# Save all the data and labels to single pickle file\n",
    "pickle_file = 'MNIST.pickle'\n",
    "if os.path.exists(MNIST_folder + pickle_file):\n",
    "    print('%s already present - Skipping pickling.' %pickle_file)\n",
    "else:\n",
    "    try:\n",
    "        f = open(MNIST_folder + pickle_file, 'wb')\n",
    "        save = {\n",
    "            'train_dataset': train_data,\n",
    "            'train_labels': train_label,\n",
    "            'test_dataset': test_data,\n",
    "            'test_labels': test_label,\n",
    "        }\n",
    "        pickle.dump(save, f, pickle.HIGHEST_PROTOCOL)\n",
    "        f.close()\n",
    "    except Exception as e:\n",
    "        print('Unable to save data to', pickle_file, ':', e)\n",
    "        raise"
   ]
  },
  {
   "cell_type": "markdown",
   "metadata": {},
   "source": [
    "### Generate synthetic sequence of digits dataset - multiMNIST_continuous"
   ]
  },
  {
   "cell_type": "markdown",
   "metadata": {},
   "source": [
    "The features of this synthetic dataset:\n",
    "* The length of synthetic sequence of digits is 5\n",
    "* There can only be missing value in the beginning or the end of sequence\n",
    "* The sequence has at least one digit\n",
    "* The missing digit image is a 28 × 28 numpy array filled with zero, labeled as 99\n",
    "* The 5 digits are concatenated together, resulting in a image with a size of 28 × (28 × 5)\n",
    "* The synthetic dataset contains the same number of images for 1-digit, 2-digit, 3-digit, 4-digit, 5-digit sequences, respectively"
   ]
  },
  {
   "cell_type": "code",
   "execution_count": 14,
   "metadata": {
    "collapsed": false
   },
   "outputs": [
    {
     "name": "stdout",
     "output_type": "stream",
     "text": [
      "('MNIST training set', (60000, 28, 28), (60000, 1))\n",
      "('MNIST test set', (10000, 28, 28), (10000, 1))\n"
     ]
    }
   ],
   "source": [
    "# Read data from MNIST.pickle\n",
    "pickle_file = 'MNIST.pickle'\n",
    "\n",
    "with open(MNIST_folder + pickle_file, 'rb') as f:\n",
    "    save = pickle.load(f)\n",
    "    mnist_train_dataset = save['train_dataset']\n",
    "    mnist_train_labels = save['train_labels']\n",
    "    mnist_test_dataset = save['test_dataset']\n",
    "    mnist_test_labels = save['test_labels']\n",
    "    del save  # hint to help gc free up memory\n",
    "    print('MNIST training set', mnist_train_dataset.shape, mnist_train_labels.shape)\n",
    "    print('MNIST test set', mnist_test_dataset.shape, mnist_test_labels.shape)"
   ]
  },
  {
   "cell_type": "code",
   "execution_count": 15,
   "metadata": {
    "collapsed": true
   },
   "outputs": [],
   "source": [
    "def sequence_synthesis_continuous(data, labels, size_synthesis, length_sequence):\n",
    "    '''Generate synthetic digit sequence of certain size and sequence length'''\n",
    "    if len(data) != len(labels):\n",
    "        print('Warning: raw data and label sizes mismatch!')\n",
    "        \n",
    "    numRows, numColumns = data[0].shape\n",
    "    blank_image = np.array([[0.] * numColumns] * numRows)\n",
    "    blank_label = 10\n",
    "    \n",
    "    synthetic_image = np.ndarray(shape=(size_synthesis, numRows, numColumns * length_sequence), dtype=np.uint8)\n",
    "    synthetic_label = np.ndarray(shape=(size_synthesis, length_sequence), dtype=np.uint8)\n",
    "    \n",
    "    for i in xrange(length_sequence):\n",
    "        # i is the number of blanks in the sequence\n",
    "        # i ranges from 0 to length_sequence - 1\n",
    "        for j in xrange(size_synthesis // length_sequence):\n",
    "            sequence_data = list()\n",
    "            sequence_label = list()            \n",
    "            for _ in xrange(length_sequence - i):\n",
    "                random_id = np.random.randint(len(data))\n",
    "                sequence_data.append(data[random_id])\n",
    "                sequence_label.append(labels[random_id][0])\n",
    "            sequence_data = np.concatenate((sequence_data), axis=1)\n",
    "            for _ in xrange(i):\n",
    "                # randomly put blanks at the beginning or end of the sequence\n",
    "                if np.random.randint(2) == 0: # put blanks at the beginning\n",
    "                    sequence_data = np.concatenate((blank_image, sequence_data), axis=1)\n",
    "                    sequence_label = [blank_label] + sequence_label\n",
    "                else: # put blanks at the end\n",
    "                    sequence_data = np.concatenate((sequence_data, blank_image), axis=1)\n",
    "                    sequence_label = sequence_label + [blank_label] \n",
    "            sequence_label = np.array(sequence_label)\n",
    "            synthetic_image[i * size_synthesis // length_sequence + j] = sequence_data\n",
    "            synthetic_label[i * size_synthesis // length_sequence + j] = sequence_label\n",
    "    \n",
    "    return synthetic_image, synthetic_label"
   ]
  },
  {
   "cell_type": "code",
   "execution_count": 16,
   "metadata": {
    "collapsed": false
   },
   "outputs": [],
   "source": [
    "size_synthesis = 80000\n",
    "length_sequence = 5\n",
    "multiMNIST_data, multiMNIST_labels = sequence_synthesis_continuous(\n",
    "    data = mnist_train_dataset, labels = mnist_train_labels, \n",
    "    size_synthesis = size_synthesis, length_sequence = length_sequence)"
   ]
  },
  {
   "cell_type": "code",
   "execution_count": 17,
   "metadata": {
    "collapsed": false
   },
   "outputs": [],
   "source": [
    "# Prepare training, validation and test datasets and labels\n",
    "multiMNIST_train_dataset, multiMNIST_test_dataset, multiMNIST_train_labels, multiMNIST_test_labels = train_test_split(\n",
    "    multiMNIST_data, multiMNIST_labels, test_size = 1./10, random_state = 0)\n",
    "multiMNIST_train_dataset, multiMNIST_valid_dataset, multiMNIST_train_labels, multiMNIST_valid_labels = train_test_split(\n",
    "    multiMNIST_train_dataset, multiMNIST_train_labels, test_size = 1./9, random_state = 0)"
   ]
  },
  {
   "cell_type": "code",
   "execution_count": 18,
   "metadata": {
    "collapsed": false
   },
   "outputs": [
    {
     "name": "stdout",
     "output_type": "stream",
     "text": [
      "Training set: 64000 images and 64000 labels.\n",
      "Validation set: 8000 images and 8000 labels.\n",
      "Test set: 8000 images and 8000 labels.\n"
     ]
    }
   ],
   "source": [
    "# Check the size of each dataset\n",
    "print('Training set: %d images and %d labels.' %(len(multiMNIST_train_dataset), len(multiMNIST_train_labels)))\n",
    "print('Validation set: %d images and %d labels.' %(len(multiMNIST_valid_dataset), len(multiMNIST_valid_labels)))\n",
    "print('Test set: %d images and %d labels.' %(len(multiMNIST_test_dataset), len(multiMNIST_test_labels)))"
   ]
  },
  {
   "cell_type": "code",
   "execution_count": 19,
   "metadata": {
    "collapsed": false
   },
   "outputs": [
    {
     "data": {
      "image/png": "[encoded data removed]",
      "text/plain": [
       "<matplotlib.figure.Figure at 0x7fc89092a790>"
      ]
     },
     "metadata": {},
     "output_type": "display_data"
    },
    {
     "name": "stdout",
     "output_type": "stream",
     "text": [
      "The label of this image from training set is [8 5 0 6 6]\n"
     ]
    }
   ],
   "source": [
    "# Pick a random image from the training set\n",
    "random_id = np.random.randint(len(multiMNIST_train_dataset))\n",
    "# Plot the image\n",
    "fig = plt.figure()\n",
    "plotwindow = fig.add_subplot(111)\n",
    "plt.imshow(multiMNIST_train_dataset[random_id], cmap='gray')\n",
    "plt.show()\n",
    "# Print the label of the image\n",
    "print('The label of this image from training set is %s' %multiMNIST_train_labels[random_id])"
   ]
  },
  {
   "cell_type": "code",
   "execution_count": 20,
   "metadata": {
    "collapsed": false
   },
   "outputs": [
    {
     "data": {
      "image/png": "[encoded data removed]",
      "text/plain": [
       "<matplotlib.figure.Figure at 0x7fc89080a750>"
      ]
     },
     "metadata": {},
     "output_type": "display_data"
    },
    {
     "name": "stdout",
     "output_type": "stream",
     "text": [
      "The label of this image from training set is [10 10  7 10 10]\n"
     ]
    }
   ],
   "source": [
    "# Pick a random image from the validation set\n",
    "random_id = np.random.randint(len(multiMNIST_valid_dataset))\n",
    "# Plot the image\n",
    "fig = plt.figure()\n",
    "plotwindow = fig.add_subplot(111)\n",
    "plt.imshow(multiMNIST_valid_dataset[random_id], cmap='gray')\n",
    "plt.show()\n",
    "# Print the label of the image\n",
    "print('The label of this image from training set is %s' %multiMNIST_valid_labels[random_id])"
   ]
  },
  {
   "cell_type": "code",
   "execution_count": 21,
   "metadata": {
    "collapsed": false
   },
   "outputs": [
    {
     "data": {
      "image/png": "[encoded data removed]",
      "text/plain": [
       "<matplotlib.figure.Figure at 0x7fc890773510>"
      ]
     },
     "metadata": {},
     "output_type": "display_data"
    },
    {
     "name": "stdout",
     "output_type": "stream",
     "text": [
      "The label of this image from training set is [10 10 10  2  8]\n"
     ]
    }
   ],
   "source": [
    "# Pick a random image from the test set\n",
    "random_id = np.random.randint(len(multiMNIST_test_dataset))\n",
    "# Plot the image\n",
    "fig = plt.figure()\n",
    "plotwindow = fig.add_subplot(111)\n",
    "plt.imshow(multiMNIST_test_dataset[random_id], cmap='gray')\n",
    "plt.show()\n",
    "# Print the label of the image\n",
    "print('The label of this image from training set is %s' %multiMNIST_test_labels[random_id])"
   ]
  },
  {
   "cell_type": "markdown",
   "metadata": {},
   "source": [
    "### Save multiMNIST_continuous dataset"
   ]
  },
  {
   "cell_type": "code",
   "execution_count": 22,
   "metadata": {
    "collapsed": false
   },
   "outputs": [
    {
     "name": "stdout",
     "output_type": "stream",
     "text": [
      "multiMNIST_continuous_80000.pickle already present - Skipping pickling.\n"
     ]
    }
   ],
   "source": [
    "# Save all the data and labels to single pickle file\n",
    "multiMNIST_folder = 'data/multiMNIST/'\n",
    "pickle_file = 'multiMNIST_continuous_' + str(size_synthesis) + '.pickle'\n",
    "if os.path.exists(multiMNIST_folder + pickle_file):\n",
    "    print('%s already present - Skipping pickling.' %pickle_file)\n",
    "else:\n",
    "    if not os.path.exists(multiMNIST_folder):\n",
    "        os.makedirs(multiMNIST_folder)\n",
    "    try:\n",
    "        f = open(multiMNIST_folder + pickle_file, 'wb')\n",
    "        save = {\n",
    "            'train_dataset': multiMNIST_train_dataset,\n",
    "            'train_labels': multiMNIST_train_labels,\n",
    "            'valid_dataset': multiMNIST_valid_dataset,\n",
    "            'valid_labels': multiMNIST_valid_labels,\n",
    "            'test_dataset': multiMNIST_test_dataset,\n",
    "            'test_labels': multiMNIST_test_labels,\n",
    "        }\n",
    "        pickle.dump(save, f, pickle.HIGHEST_PROTOCOL)\n",
    "        f.close()\n",
    "    except Exception as e:\n",
    "        print('Unable to save data to', pickle_file, ':', e)\n",
    "        raise"
   ]
  },
  {
   "cell_type": "markdown",
   "metadata": {},
   "source": [
    "### Summary: show 10 random synthetic multiMNIST_continuous dataset images"
   ]
  },
  {
   "cell_type": "code",
   "execution_count": 23,
   "metadata": {
    "collapsed": false
   },
   "outputs": [
    {
     "name": "stdout",
     "output_type": "stream",
     "text": [
      "Loading multiMNIST data ...\n",
      "This may consume a lot of memories.\n",
      "('multiMNIST training set', (64000, 28, 140), (64000, 5))\n",
      "('multiMNIST validation set', (8000, 28, 140), (8000, 5))\n",
      "('multiMNIST test set', (8000, 28, 140), (8000, 5))\n"
     ]
    }
   ],
   "source": [
    "# Read data from multiMNIST.pickle\n",
    "multiMNIST_folder = 'data/multiMNIST/'\n",
    "pickle_file = 'multiMNIST_continuous_80000.pickle'\n",
    "\n",
    "with open(multiMNIST_folder + pickle_file, 'rb') as f:\n",
    "    print('Loading multiMNIST data ...')\n",
    "    print('This may consume a lot of memories.')\n",
    "    save = pickle.load(f)\n",
    "    multiMNIST_train_dataset = save['train_dataset']\n",
    "    multiMNIST_train_labels = save['train_labels']\n",
    "    multiMNIST_valid_dataset = save['valid_dataset']\n",
    "    multiMNIST_valid_labels = save['valid_labels']\n",
    "    multiMNIST_test_dataset = save['test_dataset']\n",
    "    multiMNIST_test_labels = save['test_labels']\n",
    "    del save  # hint to help gc free up memory\n",
    "    print('multiMNIST training set', multiMNIST_train_dataset.shape, multiMNIST_train_labels.shape)\n",
    "    print('multiMNIST validation set', multiMNIST_valid_dataset.shape, multiMNIST_valid_labels.shape)\n",
    "    print('multiMNIST test set', multiMNIST_test_dataset.shape, multiMNIST_test_labels.shape)"
   ]
  },
  {
   "cell_type": "code",
   "execution_count": 24,
   "metadata": {
    "collapsed": false
   },
   "outputs": [
    {
     "data": {
      "image/png": "[encoded data removed]",
      "text/plain": [
       "<matplotlib.figure.Figure at 0x7fc8906d8fd0>"
      ]
     },
     "metadata": {},
     "output_type": "display_data"
    }
   ],
   "source": [
    "num_subplots = 5\n",
    "dataset = multiMNIST_train_dataset\n",
    "labels = multiMNIST_train_labels\n",
    "fig, axes = plt.subplots(nrows = 1, ncols = num_subplots, figsize = (15, 5))\n",
    "for i in xrange(num_subplots):\n",
    "    axes[i].axis('off')\n",
    "    random_id = np.random.randint(len(dataset))\n",
    "    axes[i].imshow(dataset[random_id], cmap='gray')\n",
    "    axes[i].set_title(labels[random_id], loc='center')\n",
    "\n",
    "report_folder = 'report/'\n",
    "if not os.path.exists(report_folder):\n",
    "    os.makedirs(report_folder)\n",
    "fig.savefig(report_folder + 'multiMNIST_continuous.jpeg', format = 'jpeg', dpi = 300, bbox_inches = 'tight')"
   ]
  }
 ],
 "metadata": {
  "kernelspec": {
   "display_name": "Python 2",
   "language": "python",
   "name": "python2"
  },
  "language_info": {
   "codemirror_mode": {
    "name": "ipython",
    "version": 2
   },
   "file_extension": ".py",
   "mimetype": "text/x-python",
   "name": "python",
   "nbconvert_exporter": "python",
   "pygments_lexer": "ipython2",
   "version": "2.7.12"
  }
 },
 "nbformat": 4,
 "nbformat_minor": 1
}
