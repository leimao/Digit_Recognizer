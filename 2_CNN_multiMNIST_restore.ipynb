{
 "cells": [
  {
   "cell_type": "markdown",
   "metadata": {},
   "source": [
    "# Udacity Deep Learning Project - Digit Recognition - Part 2"
   ]
  },
  {
   "cell_type": "markdown",
   "metadata": {},
   "source": [
    "Author: Lei Mao <br>\n",
    "Late revised on: 12/23/2016 <br>"
   ]
  },
  {
   "cell_type": "markdown",
   "metadata": {},
   "source": [
    "## Convolutional Neural Network (CNN) for multiMNIST Dataset"
   ]
  },
  {
   "cell_type": "markdown",
   "metadata": {},
   "source": [
    "### Import libraries required"
   ]
  },
  {
   "cell_type": "code",
   "execution_count": 1,
   "metadata": {
    "collapsed": true
   },
   "outputs": [],
   "source": [
    "# These are all the modules we'll be using later. Make sure you can import them\n",
    "# before proceeding further.\n",
    "import matplotlib.pyplot as plt\n",
    "import numpy as np\n",
    "import tensorflow as tf\n",
    "import os\n",
    "from six.moves import cPickle as pickle\n",
    "\n",
    "# Config the matplotlib backend as plotting inline in IPython\n",
    "%matplotlib inline"
   ]
  },
  {
   "cell_type": "code",
   "execution_count": 2,
   "metadata": {
    "collapsed": false
   },
   "outputs": [
    {
     "data": {
      "application/javascript": [
       "IPython.notebook.set_autosave_interval(0)"
      ]
     },
     "metadata": {},
     "output_type": "display_data"
    },
    {
     "name": "stdout",
     "output_type": "stream",
     "text": [
      "Autosave disabled\n"
     ]
    }
   ],
   "source": [
    "%autosave 0"
   ]
  },
  {
   "cell_type": "markdown",
   "metadata": {},
   "source": [
    "### Load multiMNIST dataset"
   ]
  },
  {
   "cell_type": "code",
   "execution_count": 3,
   "metadata": {
    "collapsed": false
   },
   "outputs": [
    {
     "name": "stdout",
     "output_type": "stream",
     "text": [
      "Loading multiMNIST data ...\n",
      "This may consume a lot of memories.\n",
      "('multiMNIST test set', (8000, 28, 140), (8000, 5))\n"
     ]
    }
   ],
   "source": [
    "# Read data from multiMNIST.pickle\n",
    "multiMNIST_folder = 'data/multiMNIST/'\n",
    "pickle_file = 'multiMNIST_continuous_80000.pickle'\n",
    "\n",
    "with open(multiMNIST_folder + pickle_file, 'rb') as f:\n",
    "    print('Loading multiMNIST data ...')\n",
    "    print('This may consume a lot of memories.')\n",
    "    save = pickle.load(f)\n",
    "    multiMNIST_test_dataset = save['test_dataset']\n",
    "    multiMNIST_test_labels = save['test_labels']\n",
    "    del save  # hint to help gc free up memory\n",
    "    print('multiMNIST test set', multiMNIST_test_dataset.shape, multiMNIST_test_labels.shape)"
   ]
  },
  {
   "cell_type": "markdown",
   "metadata": {
    "collapsed": true
   },
   "source": [
    "Reformat into a TensorFlow-friendly shape:\n",
    "* convolutions need the image data formatted as a cube (width by height by #channels)\n",
    "* labels as float 1-hot encodings."
   ]
  },
  {
   "cell_type": "code",
   "execution_count": 4,
   "metadata": {
    "collapsed": true
   },
   "outputs": [],
   "source": [
    "length_limit = 5\n",
    "num_length_class = length_limit + 2 # 0, 1, 2, 3, 4, 5, more than 5\n",
    "num_digit_class = 11 # 0, 1, 2, 3, 4, 5, 6, 7, 8, 9, 10 (blank)\n",
    "num_image_rows = 28\n",
    "num_image_columns = 28 * 5\n",
    "num_channels = 1 # Gray scale\n",
    "\n",
    "def onehot_encoding(array, num_class):\n",
    "    '''Turn a numerical numpy array to one-hot encoded matrix'''\n",
    "    onehot_encoded = np.zeros(shape=(len(array), num_class), dtype=np.int)\n",
    "    for i in xrange(len(array)):\n",
    "        onehot_encoded[i][array[i]] = 1\n",
    "    return onehot_encoded\n",
    "\n",
    "def labels_reformat(dataset, labels):\n",
    "    '''Reformat dataset to [num_images, num_rows, num_columns, num_channels]'''\n",
    "    '''Reformat labels to one-hot encoded matrix list'''\n",
    "    dataset = dataset.reshape((-1, num_image_rows, num_image_columns, num_channels))\n",
    "    labelset = list()\n",
    "    length = np.sum(labels != 10, axis = 1)\n",
    "    length_onehot = onehot_encoding(array = length, num_class = num_length_class)\n",
    "    labelset.append(length_onehot)\n",
    "    for i in xrange(labels.shape[1]):\n",
    "        digit_onehot = onehot_encoding(array = labels[:, i], num_class = num_digit_class)\n",
    "        labelset.append(digit_onehot)\n",
    "    return dataset, labelset"
   ]
  },
  {
   "cell_type": "code",
   "execution_count": 5,
   "metadata": {
    "collapsed": false
   },
   "outputs": [],
   "source": [
    "test_dataset, test_labelset = labels_reformat(multiMNIST_test_dataset, multiMNIST_test_labels)"
   ]
  },
  {
   "cell_type": "code",
   "execution_count": 6,
   "metadata": {
    "collapsed": false
   },
   "outputs": [],
   "source": [
    "def probabilities_to_label(probabilities):\n",
    "    \"\"\"Turn a 1-hot encoding or a probability distribution over the possible\n",
    "    characters back into its (most likely) character representation.\"\"\"\n",
    "    return np.array([c for c in np.argmax(probabilities, 1)])\n",
    "def accuracy(prediction_digits, labels):\n",
    "    digits_predicted = list()\n",
    "    for i in xrange(len(prediction_digits)):\n",
    "        digits_predicted.append(probabilities_to_label(prediction_digits[i]))\n",
    "    labels_predicted = np.array(digits_predicted).T\n",
    "    num_correct = 0\n",
    "    for i in xrange(len(labels)):\n",
    "        num_correct += np.array_equal(labels_predicted[i], labels[i])\n",
    "    accuracy = float(num_correct)/len(labels)\n",
    "    return accuracy"
   ]
  },
  {
   "cell_type": "markdown",
   "metadata": {},
   "source": [
    "### Deep Convolutional Neural Network using Tensorflow"
   ]
  },
  {
   "cell_type": "markdown",
   "metadata": {},
   "source": [
    "2 layers of CNN"
   ]
  },
  {
   "cell_type": "code",
   "execution_count": 7,
   "metadata": {
    "collapsed": false
   },
   "outputs": [],
   "source": [
    "batch_size = 64\n",
    "patch_size = 6\n",
    "depth = 16\n",
    "num_hidden = 128\n",
    "\n",
    "graph = tf.Graph()\n",
    "\n",
    "with graph.as_default():\n",
    "    \n",
    "    # Input data\n",
    "    tf_test_dataset = tf.constant(test_dataset, dtype=tf.float32)\n",
    "\n",
    "    # Variables\n",
    "    cnn_1_weights = tf.Variable(tf.truncated_normal([patch_size, patch_size, num_channels, depth], stddev=0.1), \n",
    "                                name = 'CNN1_W')\n",
    "    cnn_1_biases = tf.Variable(tf.zeros([depth]), name = 'CNN1_B')\n",
    "    \n",
    "    cnn_2_weights = tf.Variable(tf.truncated_normal([patch_size, patch_size, depth, depth], stddev=0.1), \n",
    "                                name = 'CNN2_W')\n",
    "    cnn_2_biases = tf.Variable(tf.constant(1.0, shape=[depth]), name = 'CNN2_B')\n",
    "    \n",
    "    cnn_3_weights = tf.Variable(tf.truncated_normal(\n",
    "            [num_image_rows // 4 * num_image_columns // 4 * depth, num_hidden], stddev=0.1), name = 'CNN3_W')\n",
    "    cnn_3_biases = tf.Variable(tf.constant(1.0, shape=[num_hidden]), name = 'CNN3_B')\n",
    "    \n",
    "    logistic_weights = list()\n",
    "    logistic_biases = list()\n",
    "    logistic_weights.append(tf.Variable(tf.truncated_normal([num_hidden, num_length_class], stddev=0.1), name = 'H0_W'))\n",
    "    logistic_biases.append(tf.Variable(tf.zeros([num_length_class]), name = 'H0_B'))\n",
    "    \n",
    "    for i in xrange(length_limit):\n",
    "        logistic_weights.append(tf.Variable(\n",
    "                tf.truncated_normal([num_hidden, num_digit_class], stddev=0.1), name = 'H' + str(i + 1) + '_W'))\n",
    "        logistic_biases.append(tf.Variable(tf.constant(1.0, shape=[num_digit_class]), name = 'H' + str(i + 1) + '_B'))\n",
    "\n",
    "    # Model\n",
    "    def model(data):\n",
    "        \n",
    "        conv = tf.nn.conv2d(data, cnn_1_weights, [1, 2, 2, 1], padding = 'SAME')\n",
    "        hidden = tf.nn.relu(conv + cnn_1_biases)\n",
    "        conv = tf.nn.conv2d(hidden, cnn_2_weights, [1, 2, 2, 1], padding = 'SAME')\n",
    "        hidden = tf.nn.relu(conv + cnn_2_biases)\n",
    "        shape = hidden.get_shape().as_list()\n",
    "        reshape = tf.reshape(hidden, [shape[0], shape[1] * shape[2] * shape[3]])\n",
    "        hidden = tf.nn.relu(tf.matmul(reshape, cnn_3_weights) + cnn_3_biases)\n",
    "        \n",
    "        \n",
    "        # Hints: tf.pack()?\n",
    "        logits = list()\n",
    "        for i in xrange(length_limit + 1):\n",
    "            logits.append(tf.matmul(hidden, logistic_weights[i]) + logistic_biases[i])\n",
    "        \n",
    "        return logits\n",
    "\n",
    "    # Predict the length of sequence in test set\n",
    "    test_logits = model(tf_test_dataset)\n",
    "    test_prediction_length = tf.nn.softmax(test_logits[0])\n",
    "    \n",
    "    # Predict the digits of sequence in test set\n",
    "    test_prediction_digits = list()\n",
    "    for i in xrange(length_limit):\n",
    "        test_prediction_digits.append(tf.nn.softmax(test_logits[i + 1]))\n",
    "    test_prediction_digits = tf.pack(test_prediction_digits)\n",
    "    \n",
    "    # Prediction of single test data\n",
    "    # Input data\n",
    "    tf_test_single = tf.placeholder(tf.float32, shape=(1, num_image_rows, num_image_columns, num_channels))\n",
    "    # Predict the length of sequence in single test data\n",
    "    test_logits_single = model(tf_test_single)\n",
    "    test_prediction_length_single = tf.nn.softmax(test_logits_single[0])\n",
    "    # Predict the digits of sequence in single test data\n",
    "    test_prediction_digits_single = list()\n",
    "    for i in xrange(length_limit):\n",
    "        test_prediction_digits_single.append(tf.nn.softmax(test_logits_single[i + 1]))\n",
    "    test_prediction_digits_single = tf.pack(test_prediction_digits_single)   \n",
    "    \n",
    "    saver = tf.train.Saver()"
   ]
  },
  {
   "cell_type": "code",
   "execution_count": 8,
   "metadata": {
    "collapsed": false
   },
   "outputs": [
    {
     "name": "stdout",
     "output_type": "stream",
     "text": [
      "Initialized\n",
      "Test accuracy: 86.3%\n"
     ]
    }
   ],
   "source": [
    "model_path = 'model/'\n",
    "with tf.Session(graph=graph) as session:\n",
    "    tf.global_variables_initializer().run()\n",
    "    print('Initialized')\n",
    "    saver.restore(session, model_path + 'CNN_multiMNIST')\n",
    "    print('Test accuracy: %.1f%%' \n",
    "          %(accuracy(prediction_digits = test_prediction_digits.eval(), labels = multiMNIST_test_labels) * 100))\n"
   ]
  }
 ],
 "metadata": {
  "kernelspec": {
   "display_name": "Python 2",
   "language": "python",
   "name": "python2"
  },
  "language_info": {
   "codemirror_mode": {
    "name": "ipython",
    "version": 2
   },
   "file_extension": ".py",
   "mimetype": "text/x-python",
   "name": "python",
   "nbconvert_exporter": "python",
   "pygments_lexer": "ipython2",
   "version": "2.7.12"
  }
 },
 "nbformat": 4,
 "nbformat_minor": 1
}
